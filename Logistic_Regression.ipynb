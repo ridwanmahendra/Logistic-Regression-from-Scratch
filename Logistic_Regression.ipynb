{
  "nbformat": 4,
  "nbformat_minor": 0,
  "metadata": {
    "colab": {
      "provenance": [],
      "collapsed_sections": [],
      "authorship_tag": "ABX9TyOZI4hJqz9odkVSDDDk1qCs",
      "include_colab_link": true
    },
    "kernelspec": {
      "name": "python3",
      "display_name": "Python 3"
    },
    "language_info": {
      "name": "python"
    }
  },
  "cells": [
    {
      "cell_type": "markdown",
      "metadata": {
        "id": "view-in-github",
        "colab_type": "text"
      },
      "source": [
        "<a href=\"https://colab.research.google.com/github/ridwanmahendra/Logistic-Regression-from-Scratch/blob/main/Logistic_Regression.ipynb\" target=\"_parent\"><img src=\"https://colab.research.google.com/assets/colab-badge.svg\" alt=\"Open In Colab\"/></a>"
      ]
    },
    {
      "cell_type": "code",
      "execution_count": 577,
      "metadata": {
        "id": "DTMrH3XQ6OhD"
      },
      "outputs": [],
      "source": [
        "import pandas as pd\n",
        "import numpy as np\n",
        "import matplotlib.pyplot as plt"
      ]
    },
    {
      "cell_type": "code",
      "source": [
        "data = pd.read_csv('tumor.csv')\n",
        "data.head()"
      ],
      "metadata": {
        "colab": {
          "base_uri": "https://localhost:8080/",
          "height": 317
        },
        "id": "3lRIicuM6ssR",
        "outputId": "011de9e6-e010-440e-da89-d5a6aa518d8d"
      },
      "execution_count": 578,
      "outputs": [
        {
          "output_type": "execute_result",
          "data": {
            "text/plain": [
              "         id diagnosis  radius_mean  texture_mean  perimeter_mean  area_mean  \\\n",
              "0    842302         M        17.99         10.38          122.80     1001.0   \n",
              "1    842517         M        20.57         17.77          132.90     1326.0   \n",
              "2  84300903         M        19.69         21.25          130.00     1203.0   \n",
              "3  84348301         M        11.42         20.38           77.58      386.1   \n",
              "4  84358402         M        20.29         14.34          135.10     1297.0   \n",
              "\n",
              "   smoothness_mean  compactness_mean  concavity_mean  concave points_mean  \\\n",
              "0          0.11840           0.27760          0.3001              0.14710   \n",
              "1          0.08474           0.07864          0.0869              0.07017   \n",
              "2          0.10960           0.15990          0.1974              0.12790   \n",
              "3          0.14250           0.28390          0.2414              0.10520   \n",
              "4          0.10030           0.13280          0.1980              0.10430   \n",
              "\n",
              "   ...  texture_worst  perimeter_worst  area_worst  smoothness_worst  \\\n",
              "0  ...          17.33           184.60      2019.0            0.1622   \n",
              "1  ...          23.41           158.80      1956.0            0.1238   \n",
              "2  ...          25.53           152.50      1709.0            0.1444   \n",
              "3  ...          26.50            98.87       567.7            0.2098   \n",
              "4  ...          16.67           152.20      1575.0            0.1374   \n",
              "\n",
              "   compactness_worst  concavity_worst  concave points_worst  symmetry_worst  \\\n",
              "0             0.6656           0.7119                0.2654          0.4601   \n",
              "1             0.1866           0.2416                0.1860          0.2750   \n",
              "2             0.4245           0.4504                0.2430          0.3613   \n",
              "3             0.8663           0.6869                0.2575          0.6638   \n",
              "4             0.2050           0.4000                0.1625          0.2364   \n",
              "\n",
              "   fractal_dimension_worst  Unnamed: 32  \n",
              "0                  0.11890          NaN  \n",
              "1                  0.08902          NaN  \n",
              "2                  0.08758          NaN  \n",
              "3                  0.17300          NaN  \n",
              "4                  0.07678          NaN  \n",
              "\n",
              "[5 rows x 33 columns]"
            ],
            "text/html": [
              "\n",
              "  <div id=\"df-67940232-661d-499c-8cee-a87b469e10b9\">\n",
              "    <div class=\"colab-df-container\">\n",
              "      <div>\n",
              "<style scoped>\n",
              "    .dataframe tbody tr th:only-of-type {\n",
              "        vertical-align: middle;\n",
              "    }\n",
              "\n",
              "    .dataframe tbody tr th {\n",
              "        vertical-align: top;\n",
              "    }\n",
              "\n",
              "    .dataframe thead th {\n",
              "        text-align: right;\n",
              "    }\n",
              "</style>\n",
              "<table border=\"1\" class=\"dataframe\">\n",
              "  <thead>\n",
              "    <tr style=\"text-align: right;\">\n",
              "      <th></th>\n",
              "      <th>id</th>\n",
              "      <th>diagnosis</th>\n",
              "      <th>radius_mean</th>\n",
              "      <th>texture_mean</th>\n",
              "      <th>perimeter_mean</th>\n",
              "      <th>area_mean</th>\n",
              "      <th>smoothness_mean</th>\n",
              "      <th>compactness_mean</th>\n",
              "      <th>concavity_mean</th>\n",
              "      <th>concave points_mean</th>\n",
              "      <th>...</th>\n",
              "      <th>texture_worst</th>\n",
              "      <th>perimeter_worst</th>\n",
              "      <th>area_worst</th>\n",
              "      <th>smoothness_worst</th>\n",
              "      <th>compactness_worst</th>\n",
              "      <th>concavity_worst</th>\n",
              "      <th>concave points_worst</th>\n",
              "      <th>symmetry_worst</th>\n",
              "      <th>fractal_dimension_worst</th>\n",
              "      <th>Unnamed: 32</th>\n",
              "    </tr>\n",
              "  </thead>\n",
              "  <tbody>\n",
              "    <tr>\n",
              "      <th>0</th>\n",
              "      <td>842302</td>\n",
              "      <td>M</td>\n",
              "      <td>17.99</td>\n",
              "      <td>10.38</td>\n",
              "      <td>122.80</td>\n",
              "      <td>1001.0</td>\n",
              "      <td>0.11840</td>\n",
              "      <td>0.27760</td>\n",
              "      <td>0.3001</td>\n",
              "      <td>0.14710</td>\n",
              "      <td>...</td>\n",
              "      <td>17.33</td>\n",
              "      <td>184.60</td>\n",
              "      <td>2019.0</td>\n",
              "      <td>0.1622</td>\n",
              "      <td>0.6656</td>\n",
              "      <td>0.7119</td>\n",
              "      <td>0.2654</td>\n",
              "      <td>0.4601</td>\n",
              "      <td>0.11890</td>\n",
              "      <td>NaN</td>\n",
              "    </tr>\n",
              "    <tr>\n",
              "      <th>1</th>\n",
              "      <td>842517</td>\n",
              "      <td>M</td>\n",
              "      <td>20.57</td>\n",
              "      <td>17.77</td>\n",
              "      <td>132.90</td>\n",
              "      <td>1326.0</td>\n",
              "      <td>0.08474</td>\n",
              "      <td>0.07864</td>\n",
              "      <td>0.0869</td>\n",
              "      <td>0.07017</td>\n",
              "      <td>...</td>\n",
              "      <td>23.41</td>\n",
              "      <td>158.80</td>\n",
              "      <td>1956.0</td>\n",
              "      <td>0.1238</td>\n",
              "      <td>0.1866</td>\n",
              "      <td>0.2416</td>\n",
              "      <td>0.1860</td>\n",
              "      <td>0.2750</td>\n",
              "      <td>0.08902</td>\n",
              "      <td>NaN</td>\n",
              "    </tr>\n",
              "    <tr>\n",
              "      <th>2</th>\n",
              "      <td>84300903</td>\n",
              "      <td>M</td>\n",
              "      <td>19.69</td>\n",
              "      <td>21.25</td>\n",
              "      <td>130.00</td>\n",
              "      <td>1203.0</td>\n",
              "      <td>0.10960</td>\n",
              "      <td>0.15990</td>\n",
              "      <td>0.1974</td>\n",
              "      <td>0.12790</td>\n",
              "      <td>...</td>\n",
              "      <td>25.53</td>\n",
              "      <td>152.50</td>\n",
              "      <td>1709.0</td>\n",
              "      <td>0.1444</td>\n",
              "      <td>0.4245</td>\n",
              "      <td>0.4504</td>\n",
              "      <td>0.2430</td>\n",
              "      <td>0.3613</td>\n",
              "      <td>0.08758</td>\n",
              "      <td>NaN</td>\n",
              "    </tr>\n",
              "    <tr>\n",
              "      <th>3</th>\n",
              "      <td>84348301</td>\n",
              "      <td>M</td>\n",
              "      <td>11.42</td>\n",
              "      <td>20.38</td>\n",
              "      <td>77.58</td>\n",
              "      <td>386.1</td>\n",
              "      <td>0.14250</td>\n",
              "      <td>0.28390</td>\n",
              "      <td>0.2414</td>\n",
              "      <td>0.10520</td>\n",
              "      <td>...</td>\n",
              "      <td>26.50</td>\n",
              "      <td>98.87</td>\n",
              "      <td>567.7</td>\n",
              "      <td>0.2098</td>\n",
              "      <td>0.8663</td>\n",
              "      <td>0.6869</td>\n",
              "      <td>0.2575</td>\n",
              "      <td>0.6638</td>\n",
              "      <td>0.17300</td>\n",
              "      <td>NaN</td>\n",
              "    </tr>\n",
              "    <tr>\n",
              "      <th>4</th>\n",
              "      <td>84358402</td>\n",
              "      <td>M</td>\n",
              "      <td>20.29</td>\n",
              "      <td>14.34</td>\n",
              "      <td>135.10</td>\n",
              "      <td>1297.0</td>\n",
              "      <td>0.10030</td>\n",
              "      <td>0.13280</td>\n",
              "      <td>0.1980</td>\n",
              "      <td>0.10430</td>\n",
              "      <td>...</td>\n",
              "      <td>16.67</td>\n",
              "      <td>152.20</td>\n",
              "      <td>1575.0</td>\n",
              "      <td>0.1374</td>\n",
              "      <td>0.2050</td>\n",
              "      <td>0.4000</td>\n",
              "      <td>0.1625</td>\n",
              "      <td>0.2364</td>\n",
              "      <td>0.07678</td>\n",
              "      <td>NaN</td>\n",
              "    </tr>\n",
              "  </tbody>\n",
              "</table>\n",
              "<p>5 rows × 33 columns</p>\n",
              "</div>\n",
              "      <button class=\"colab-df-convert\" onclick=\"convertToInteractive('df-67940232-661d-499c-8cee-a87b469e10b9')\"\n",
              "              title=\"Convert this dataframe to an interactive table.\"\n",
              "              style=\"display:none;\">\n",
              "        \n",
              "  <svg xmlns=\"http://www.w3.org/2000/svg\" height=\"24px\"viewBox=\"0 0 24 24\"\n",
              "       width=\"24px\">\n",
              "    <path d=\"M0 0h24v24H0V0z\" fill=\"none\"/>\n",
              "    <path d=\"M18.56 5.44l.94 2.06.94-2.06 2.06-.94-2.06-.94-.94-2.06-.94 2.06-2.06.94zm-11 1L8.5 8.5l.94-2.06 2.06-.94-2.06-.94L8.5 2.5l-.94 2.06-2.06.94zm10 10l.94 2.06.94-2.06 2.06-.94-2.06-.94-.94-2.06-.94 2.06-2.06.94z\"/><path d=\"M17.41 7.96l-1.37-1.37c-.4-.4-.92-.59-1.43-.59-.52 0-1.04.2-1.43.59L10.3 9.45l-7.72 7.72c-.78.78-.78 2.05 0 2.83L4 21.41c.39.39.9.59 1.41.59.51 0 1.02-.2 1.41-.59l7.78-7.78 2.81-2.81c.8-.78.8-2.07 0-2.86zM5.41 20L4 18.59l7.72-7.72 1.47 1.35L5.41 20z\"/>\n",
              "  </svg>\n",
              "      </button>\n",
              "      \n",
              "  <style>\n",
              "    .colab-df-container {\n",
              "      display:flex;\n",
              "      flex-wrap:wrap;\n",
              "      gap: 12px;\n",
              "    }\n",
              "\n",
              "    .colab-df-convert {\n",
              "      background-color: #E8F0FE;\n",
              "      border: none;\n",
              "      border-radius: 50%;\n",
              "      cursor: pointer;\n",
              "      display: none;\n",
              "      fill: #1967D2;\n",
              "      height: 32px;\n",
              "      padding: 0 0 0 0;\n",
              "      width: 32px;\n",
              "    }\n",
              "\n",
              "    .colab-df-convert:hover {\n",
              "      background-color: #E2EBFA;\n",
              "      box-shadow: 0px 1px 2px rgba(60, 64, 67, 0.3), 0px 1px 3px 1px rgba(60, 64, 67, 0.15);\n",
              "      fill: #174EA6;\n",
              "    }\n",
              "\n",
              "    [theme=dark] .colab-df-convert {\n",
              "      background-color: #3B4455;\n",
              "      fill: #D2E3FC;\n",
              "    }\n",
              "\n",
              "    [theme=dark] .colab-df-convert:hover {\n",
              "      background-color: #434B5C;\n",
              "      box-shadow: 0px 1px 3px 1px rgba(0, 0, 0, 0.15);\n",
              "      filter: drop-shadow(0px 1px 2px rgba(0, 0, 0, 0.3));\n",
              "      fill: #FFFFFF;\n",
              "    }\n",
              "  </style>\n",
              "\n",
              "      <script>\n",
              "        const buttonEl =\n",
              "          document.querySelector('#df-67940232-661d-499c-8cee-a87b469e10b9 button.colab-df-convert');\n",
              "        buttonEl.style.display =\n",
              "          google.colab.kernel.accessAllowed ? 'block' : 'none';\n",
              "\n",
              "        async function convertToInteractive(key) {\n",
              "          const element = document.querySelector('#df-67940232-661d-499c-8cee-a87b469e10b9');\n",
              "          const dataTable =\n",
              "            await google.colab.kernel.invokeFunction('convertToInteractive',\n",
              "                                                     [key], {});\n",
              "          if (!dataTable) return;\n",
              "\n",
              "          const docLinkHtml = 'Like what you see? Visit the ' +\n",
              "            '<a target=\"_blank\" href=https://colab.research.google.com/notebooks/data_table.ipynb>data table notebook</a>'\n",
              "            + ' to learn more about interactive tables.';\n",
              "          element.innerHTML = '';\n",
              "          dataTable['output_type'] = 'display_data';\n",
              "          await google.colab.output.renderOutput(dataTable, element);\n",
              "          const docLink = document.createElement('div');\n",
              "          docLink.innerHTML = docLinkHtml;\n",
              "          element.appendChild(docLink);\n",
              "        }\n",
              "      </script>\n",
              "    </div>\n",
              "  </div>\n",
              "  "
            ]
          },
          "metadata": {},
          "execution_count": 578
        }
      ]
    },
    {
      "cell_type": "code",
      "source": [
        "list(data.columns)"
      ],
      "metadata": {
        "colab": {
          "base_uri": "https://localhost:8080/"
        },
        "id": "WKj-Qx1rP0YH",
        "outputId": "faecef59-3d20-45ee-8539-6284e9be3d8c"
      },
      "execution_count": 579,
      "outputs": [
        {
          "output_type": "execute_result",
          "data": {
            "text/plain": [
              "['id',\n",
              " 'diagnosis',\n",
              " 'radius_mean',\n",
              " 'texture_mean',\n",
              " 'perimeter_mean',\n",
              " 'area_mean',\n",
              " 'smoothness_mean',\n",
              " 'compactness_mean',\n",
              " 'concavity_mean',\n",
              " 'concave points_mean',\n",
              " 'symmetry_mean',\n",
              " 'fractal_dimension_mean',\n",
              " 'radius_se',\n",
              " 'texture_se',\n",
              " 'perimeter_se',\n",
              " 'area_se',\n",
              " 'smoothness_se',\n",
              " 'compactness_se',\n",
              " 'concavity_se',\n",
              " 'concave points_se',\n",
              " 'symmetry_se',\n",
              " 'fractal_dimension_se',\n",
              " 'radius_worst',\n",
              " 'texture_worst',\n",
              " 'perimeter_worst',\n",
              " 'area_worst',\n",
              " 'smoothness_worst',\n",
              " 'compactness_worst',\n",
              " 'concavity_worst',\n",
              " 'concave points_worst',\n",
              " 'symmetry_worst',\n",
              " 'fractal_dimension_worst',\n",
              " 'Unnamed: 32']"
            ]
          },
          "metadata": {},
          "execution_count": 579
        }
      ]
    },
    {
      "cell_type": "code",
      "source": [
        "X = data[['radius_mean',\n",
        " 'texture_mean',\n",
        " 'perimeter_mean',\n",
        " 'area_mean',\n",
        " 'smoothness_mean',\n",
        " 'compactness_mean',\n",
        " 'concavity_mean',\n",
        " 'concave points_mean',\n",
        " 'symmetry_mean',\n",
        " 'fractal_dimension_mean',\n",
        " 'radius_se',\n",
        " 'texture_se',\n",
        " 'perimeter_se',\n",
        " 'area_se',\n",
        " 'smoothness_se',\n",
        " 'compactness_se',\n",
        " 'concavity_se',\n",
        " 'concave points_se',\n",
        " 'symmetry_se',\n",
        " 'fractal_dimension_se',\n",
        " 'radius_worst',\n",
        " 'texture_worst',\n",
        " 'perimeter_worst',\n",
        " 'area_worst',\n",
        " 'smoothness_worst',\n",
        " 'compactness_worst',\n",
        " 'concavity_worst',\n",
        " 'concave points_worst',\n",
        " 'symmetry_worst',\n",
        " 'fractal_dimension_worst']]\n",
        "\n",
        "y = data['diagnosis']"
      ],
      "metadata": {
        "id": "6R8H0DBcU0B8"
      },
      "execution_count": 580,
      "outputs": []
    },
    {
      "cell_type": "code",
      "source": [
        "y.loc[0]"
      ],
      "metadata": {
        "colab": {
          "base_uri": "https://localhost:8080/",
          "height": 35
        },
        "id": "Q62ktLlncOqY",
        "outputId": "536221c2-c688-4ad0-9b9b-0e2015d58cd8"
      },
      "execution_count": 581,
      "outputs": [
        {
          "output_type": "execute_result",
          "data": {
            "text/plain": [
              "'M'"
            ],
            "application/vnd.google.colaboratory.intrinsic+json": {
              "type": "string"
            }
          },
          "metadata": {},
          "execution_count": 581
        }
      ]
    },
    {
      "cell_type": "code",
      "source": [
        "#merubah data katergori ke data kontinu\n",
        "y.loc[y == \"B\"] = 1\n",
        "y.loc[y == \"M\"] = 0\n",
        "y = y.astype(str).astype(int)"
      ],
      "metadata": {
        "colab": {
          "base_uri": "https://localhost:8080/"
        },
        "id": "QmsokTaPbnf4",
        "outputId": "cd62461f-dc42-42ed-ff03-2fc082f552f0"
      },
      "execution_count": 582,
      "outputs": [
        {
          "output_type": "stream",
          "name": "stderr",
          "text": [
            "/usr/local/lib/python3.7/dist-packages/pandas/core/indexing.py:1732: SettingWithCopyWarning: \n",
            "A value is trying to be set on a copy of a slice from a DataFrame\n",
            "\n",
            "See the caveats in the documentation: https://pandas.pydata.org/pandas-docs/stable/user_guide/indexing.html#returning-a-view-versus-a-copy\n",
            "  self._setitem_single_block(indexer, value, name)\n"
          ]
        }
      ]
    },
    {
      "cell_type": "code",
      "source": [
        "y"
      ],
      "metadata": {
        "colab": {
          "base_uri": "https://localhost:8080/"
        },
        "id": "I1JF4Verr1bu",
        "outputId": "ee296699-5bb0-40c8-873d-23ac98a1f56c"
      },
      "execution_count": 583,
      "outputs": [
        {
          "output_type": "execute_result",
          "data": {
            "text/plain": [
              "0      0\n",
              "1      0\n",
              "2      0\n",
              "3      0\n",
              "4      0\n",
              "      ..\n",
              "564    0\n",
              "565    0\n",
              "566    0\n",
              "567    0\n",
              "568    1\n",
              "Name: diagnosis, Length: 569, dtype: int64"
            ]
          },
          "metadata": {},
          "execution_count": 583
        }
      ]
    },
    {
      "cell_type": "code",
      "source": [
        "X= (X - X.mean()) / X.std()"
      ],
      "metadata": {
        "id": "5_BjlGxggN7K"
      },
      "execution_count": 584,
      "outputs": []
    },
    {
      "cell_type": "code",
      "source": [
        "# menambah kolom bias\n",
        "m = X.shape[0]\n",
        "a = np.ones((m, 1))\n",
        "X.insert(loc = 0, column = \"Ones\", value = a)"
      ],
      "metadata": {
        "id": "UiRkYxHCVKvo"
      },
      "execution_count": 585,
      "outputs": []
    },
    {
      "cell_type": "code",
      "source": [
        "train_pct_index = int(0.8 * len(X))\n",
        "X_train, X_test = X[:train_pct_index], X[train_pct_index:]\n",
        "y_train, y_test = y[:train_pct_index], y[train_pct_index:]"
      ],
      "metadata": {
        "id": "A3z83RQcgTBv"
      },
      "execution_count": 586,
      "outputs": []
    },
    {
      "cell_type": "code",
      "source": [
        "X_train, X_test, y_train, y_test = X_train.to_numpy(), X_test.to_numpy(), y_train.to_numpy(), y_test.to_numpy()"
      ],
      "metadata": {
        "id": "LE4RVUmJcw3m"
      },
      "execution_count": 587,
      "outputs": []
    },
    {
      "cell_type": "code",
      "source": [
        "print('Training X data size -> {}'.format(X_train.shape))\n",
        "print('Training y data size -> {}'.format(y_train.shape))\n",
        "print('Test X data size -> {}'.format(X_test.shape))\n",
        "print('Test y data size -> {}'.format(y_test.shape))"
      ],
      "metadata": {
        "colab": {
          "base_uri": "https://localhost:8080/"
        },
        "id": "_4DLZOPZeVWV",
        "outputId": "3bc23c9c-ba68-4bf8-bc81-60ed4b94bca2"
      },
      "execution_count": 588,
      "outputs": [
        {
          "output_type": "stream",
          "name": "stdout",
          "text": [
            "Training X data size -> (455, 31)\n",
            "Training y data size -> (455,)\n",
            "Test X data size -> (114, 31)\n",
            "Test y data size -> (114,)\n"
          ]
        }
      ]
    },
    {
      "cell_type": "code",
      "source": [
        "def sigmoid(z):\n",
        "  return (1/(1+np.exp(-z)))"
      ],
      "metadata": {
        "id": "pONrH7jFd-Mi"
      },
      "execution_count": 589,
      "outputs": []
    },
    {
      "cell_type": "code",
      "source": [
        "def h(theta, X):\n",
        "  return sigmoid(np.matmul(X, theta))"
      ],
      "metadata": {
        "id": "X1YttU5miO3c"
      },
      "execution_count": 590,
      "outputs": []
    },
    {
      "cell_type": "code",
      "source": [
        "#cost function\n",
        "def cost_function(X, y, theta, m):\n",
        "\n",
        "\ty = y.reshape(y.shape[0], 1)\n",
        "\tH = h(theta, X)\t\n",
        "\n",
        "\treturn (sum((y)*np.log(H) + (1-y)*np.log(1-H))) / (-m)"
      ],
      "metadata": {
        "id": "ZWcLepCkiY1s"
      },
      "execution_count": 591,
      "outputs": []
    },
    {
      "cell_type": "code",
      "source": [
        "#grading descent\n",
        "def gradient_descent(theta, X, y, alfa, m):\n",
        "\n",
        "\tH = h(theta, X)\n",
        "\tH = H.reshape((H.shape[0],))\n",
        "\n",
        "\tdiff = np.subtract(H, y)\n",
        "\ta = np.matmul(np.transpose(X), diff).reshape((theta.shape[0],1))\n",
        "\t\n",
        "\ttheta = theta - (alfa/m) * a\n",
        "\n",
        "\treturn theta"
      ],
      "metadata": {
        "id": "fy2njWQTeha6"
      },
      "execution_count": 592,
      "outputs": []
    },
    {
      "cell_type": "code",
      "source": [],
      "metadata": {
        "id": "j4i_BM3kjA0E"
      },
      "execution_count": 592,
      "outputs": []
    },
    {
      "cell_type": "code",
      "source": [
        "#train function\n",
        "def train(X, y, theta, alfa, m, num_iter):\n",
        "\n",
        "\tfor i in range(num_iter):\n",
        "\t\ttheta = gradient_descent(theta, X, y, alfa, m)\n",
        "\n",
        "\t\n",
        "\t\tif i % 500 == 0:\n",
        "\t\t\tprint(\"Cost: \", cost_function(X, y, theta, m))\n",
        "\n",
        "\treturn theta"
      ],
      "metadata": {
        "id": "sbPW2eraigAF"
      },
      "execution_count": 593,
      "outputs": []
    },
    {
      "cell_type": "code",
      "source": [
        "def predict(X, theta, threshold = 0.1):\n",
        "\t\n",
        "\ta = h(theta, X)\n",
        "\ta [a >= threshold] = 1\n",
        "\ta [a < threshold]  = 0 \n",
        "\n",
        "\treturn a"
      ],
      "metadata": {
        "id": "atNXasiYijgy"
      },
      "execution_count": 594,
      "outputs": []
    },
    {
      "cell_type": "code",
      "source": [
        "#returns the accuracy \n",
        "def score(y1, y2):\n",
        "\n",
        "\t#y1 is answer\n",
        "\t#y2 is calculated\n",
        "\n",
        "\ty1 = y1.reshape(y1.shape[0], 1)\n",
        "\ty2 = y2.reshape(y2.shape[0], 1)\n",
        "\n",
        "\ty1_not = (1 - y1).reshape(y1.shape[0], 1)\n",
        "\ty2_not = (1 - y2).reshape(y1.shape[0], 1)\n",
        "\n",
        "\t\n",
        "\ta = np.multiply(y1_not, y2_not) + np.multiply(y1, y2)   #1 means correct prediction, 0 means wrong predictions\n",
        "\t\n",
        "\tones_ = np.count_nonzero(a == 1)  #count ones to get the percentage\n",
        "\n",
        "\treturn (ones_ / y1.shape[0]) * 100"
      ],
      "metadata": {
        "id": "e4MDMTEBioBw"
      },
      "execution_count": 595,
      "outputs": []
    },
    {
      "cell_type": "code",
      "source": [
        "# m = X_train.shape[0]  #number of rows\n",
        "# n = X_train.shape[1]  #number of columns\n",
        "\n",
        "# theta = np.zeros((n, 1))\n",
        "# num_iter = 2000\n",
        "# alfa = 0.3\n",
        "\n",
        "# opt_theta = train(X_train, y_train, theta, alfa, m, num_iter)\n",
        "# y_ = predict(X_test, opt_theta)\n",
        "# print(\"Accuracy: \", score(y_test, y_))"
      ],
      "metadata": {
        "id": "3tOlAr8cit9f"
      },
      "execution_count": 596,
      "outputs": []
    },
    {
      "cell_type": "code",
      "source": [],
      "metadata": {
        "id": "GetKzDOUEmT5"
      },
      "execution_count": 596,
      "outputs": []
    },
    {
      "cell_type": "code",
      "source": [
        "m = X_train.shape[0]  #number of rows\n",
        "n = X_train.shape[1]  #number of columns\n",
        "\n",
        "theta = np.zeros((n, 1))\n",
        "num_iter = 3000\n",
        "alfa = 0.2\n",
        "\n",
        "opt_theta = train(X_train, y_train, theta, alfa, m, num_iter)\n",
        "y_ = predict(X_test, opt_theta)\n",
        "# tp_lr, tn_lr, fp_lr, fn_lr = compute_tp_tn_fn_fp(y_test, y_)\n",
        "\n"
      ],
      "metadata": {
        "colab": {
          "base_uri": "https://localhost:8080/"
        },
        "id": "vYQNacDN-iD1",
        "outputId": "6e4b2643-c58e-4f5c-8c43-4d335ddce2ef"
      },
      "execution_count": 597,
      "outputs": [
        {
          "output_type": "stream",
          "name": "stdout",
          "text": [
            "Cost:  [0.39775129]\n",
            "Cost:  [0.0594442]\n",
            "Cost:  [0.05413076]\n",
            "Cost:  [0.05165167]\n",
            "Cost:  [0.05007728]\n",
            "Cost:  [0.04891468]\n"
          ]
        }
      ]
    },
    {
      "cell_type": "code",
      "source": [
        "TP = 0\n",
        "for i in range(0,len(y_test)):\n",
        "    if y_test[i] == y_[i] and y_test[i] == 1:\n",
        "       TP+=1\n",
        "print(\"True Positive: \", TP) # 3\n",
        "\n",
        "FP = 0\n",
        "for i in range(0,len(y_test)):\n",
        "    if y_test[i] == 0 and y_[i] == 1:\n",
        "       FP+=1\n",
        "print(\"False Positive: \", FP) # 3\n",
        "\n",
        "TN = 0\n",
        "for i in range(0,len(y_test)):\n",
        "    if y_test[i] == y_[i] and y_test[i] == 0:\n",
        "       TN+=1\n",
        "print(\"True Negative: \", TN) # 0\n",
        "\n",
        "FN = 0\n",
        "for i in range(0,len(y_test)):\n",
        "    if y_test[i] == 1 and y_[i] == 0:\n",
        "       FN+=1\n",
        "print(\"False Negative: \", FN) # 4\n",
        "\n",
        "CP = 0\n",
        "for i in range(0,len(y_test)):\n",
        "    if y_test[i] == y_[i]:\n",
        "       CP+=1\n",
        "print(\"Correct Prediction: \", CP) # 3\n",
        "print(CP == TP + TN) # True\n",
        "\n",
        "ICP = 0\n",
        "for i in range(0,len(y_test)):\n",
        "    if y_test[i] != y_[i]:\n",
        "       ICP+=1\n",
        "print(\"Incorrect Prediction: \", ICP)# 7\n",
        "print(ICP == FP + FN) # True"
      ],
      "metadata": {
        "colab": {
          "base_uri": "https://localhost:8080/"
        },
        "id": "Yj3zgWOBPbwL",
        "outputId": "03c0c492-e515-4ace-82e8-7c619fd8ce28"
      },
      "execution_count": 598,
      "outputs": [
        {
          "output_type": "stream",
          "name": "stdout",
          "text": [
            "True Positive:  88\n",
            "False Positive:  3\n",
            "True Negative:  23\n",
            "False Negative:  0\n",
            "Correct Prediction:  111\n",
            "True\n",
            "Incorrect Prediction:  3\n",
            "True\n"
          ]
        }
      ]
    },
    {
      "cell_type": "code",
      "source": [
        "accuracy = (TP + TN)/(TP + FP + TN + FN)\n",
        "# print(accuracy*100) \n",
        "recall = (TP)/( TP + FN)\n",
        "# print(recall*100)\n",
        "precision = TP/(TP+FP)\n",
        "# print(precision)\n",
        "f1 = 2*(precision * recall)/(precision + recall)\n",
        "# print(f1)\n",
        "\n",
        "print('Accuracy Score -> {} %'.format(round(accuracy * 100,5)))\n",
        "print('Precision Score -> {}'.format(round(precision,5)))\n",
        "print('Recall Score -> {}'.format(round(recall,5)))\n",
        "print('F1 Score -> {}'.format(round(f1,5)))"
      ],
      "metadata": {
        "colab": {
          "base_uri": "https://localhost:8080/"
        },
        "id": "SBhH_oTjPy2c",
        "outputId": "5b2fd62b-6ec8-4aab-8b4e-6cddc1d1fdcc"
      },
      "execution_count": 614,
      "outputs": [
        {
          "output_type": "stream",
          "name": "stdout",
          "text": [
            "Accuracy Score -> 97.36842 %\n",
            "Precision Score -> 0.96703\n",
            "Recall Score -> 1.0\n",
            "F1 Score -> 0.98324\n"
          ]
        }
      ]
    }
  ]
}